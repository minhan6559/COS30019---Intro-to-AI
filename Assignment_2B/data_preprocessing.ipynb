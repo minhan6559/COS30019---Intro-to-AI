{
 "cells": [
  {
   "cell_type": "code",
   "execution_count": 3,
   "id": "a6a37ad4",
   "metadata": {},
   "outputs": [],
   "source": [
    "import pandas as pd\n",
    "import numpy as np\n",
    "import os\n",
    "from datetime import datetime\n",
    "import matplotlib.pyplot as plt\n",
    "import seaborn as sns\n",
    "\n",
    "import sys\n",
    "import os"
   ]
  },
  {
   "cell_type": "code",
   "execution_count": 2,
   "id": "5f654bcc",
   "metadata": {},
   "outputs": [],
   "source": [
    "from src.data_preprocessing.clean_data import process_data\n",
    "from src.data_preprocessing.feature_engineering import run_feature_engineering"
   ]
  },
  {
   "cell_type": "code",
   "execution_count": null,
   "id": "4e565d5d",
   "metadata": {},
   "outputs": [],
   "source": [
    "df = process_data(\n",
    "    file_path=\"raw_data/Scats Data October 2006.csv\",\n",
    "    output_dir=\"processed_data/preprocessed_data\",\n",
    "    visualize_output_dir=\"processed_data/eda_insights\",\n",
    ")"
   ]
  },
  {
   "cell_type": "code",
   "execution_count": null,
   "id": "6478da3b",
   "metadata": {},
   "outputs": [],
   "source": [
    "# Convert Date column to datetime\n",
    "df[\"Date\"] = pd.to_datetime(df[\"Date\"]).dt.normalize()\n",
    "\n",
    "output_dir = \"processed_data/preprocessed_data\"\n",
    "os.makedirs(output_dir, exist_ok=True)\n",
    "\n",
    "seq_length = 24\n",
    "test_ratio = 0.2\n",
    "\n",
    "# Run feature engineering\n",
    "processed_data = run_feature_engineering(\n",
    "    df,\n",
    "    seq_length=seq_length,\n",
    "    test_ratio=test_ratio,\n",
    "    output_dir=output_dir,\n",
    ")"
   ]
  }
 ],
 "metadata": {
  "kernelspec": {
   "display_name": "ita_tf",
   "language": "python",
   "name": "python3"
  },
  "language_info": {
   "codemirror_mode": {
    "name": "ipython",
    "version": 3
   },
   "file_extension": ".py",
   "mimetype": "text/x-python",
   "name": "python",
   "nbconvert_exporter": "python",
   "pygments_lexer": "ipython3",
   "version": "3.10.16"
  }
 },
 "nbformat": 4,
 "nbformat_minor": 5
}
